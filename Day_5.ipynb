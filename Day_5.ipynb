{
 "cells": [
  {
   "cell_type": "markdown",
   "metadata": {},
   "source": [
    "# Loops Practice"
   ]
  },
  {
   "cell_type": "code",
   "execution_count": 2,
   "metadata": {},
   "outputs": [
    {
     "name": "stdout",
     "output_type": "stream",
     "text": [
      "Enter a number: 23\n",
      "23X1=23\n",
      "23X2=46\n",
      "23X3=69\n",
      "23X4=92\n",
      "23X5=115\n",
      "23X6=138\n",
      "23X7=161\n",
      "23X8=184\n",
      "23X9=207\n",
      "23X10=230\n"
     ]
    }
   ],
   "source": [
    "##write a program to print multiplication table using for loop\n",
    "\n",
    "num = int(input(\"Enter a number: \"))\n",
    "\n",
    "for i in range(1,11):\n",
    "    print(str(num) + \"X\" +str(i) + \"=\" + str(i*num))"
   ]
  },
  {
   "cell_type": "code",
   "execution_count": 53,
   "metadata": {},
   "outputs": [
    {
     "name": "stdout",
     "output_type": "stream",
     "text": [
      "2\n",
      "3\n",
      "4\n",
      "5\n",
      "6\n",
      "7\n",
      "8\n",
      "9\n",
      "10\n",
      "11\n"
     ]
    }
   ],
   "source": [
    "num = 3\n",
    "\n",
    "for i in range(1,11):\n",
    "    print(i+1)"
   ]
  },
  {
   "cell_type": "code",
   "execution_count": 4,
   "metadata": {},
   "outputs": [
    {
     "name": "stdout",
     "output_type": "stream",
     "text": [
      "Enter a number: 3\n",
      "3 X 1 = 3\n",
      "3 X 2 = 6\n",
      "3 X 3 = 9\n",
      "3 X 4 = 12\n",
      "3 X 5 = 15\n",
      "3 X 6 = 18\n",
      "3 X 7 = 21\n",
      "3 X 8 = 24\n",
      "3 X 9 = 27\n",
      "3 X 10 = 30\n"
     ]
    }
   ],
   "source": [
    "#using f strings\n",
    "\n",
    "num = int(input(\"Enter a number: \"))\n",
    "\n",
    "for i in range(1,11):\n",
    "    print(f\"{num} X {i} = {num*i}\")"
   ]
  },
  {
   "cell_type": "code",
   "execution_count": 6,
   "metadata": {},
   "outputs": [
    {
     "name": "stdout",
     "output_type": "stream",
     "text": [
      "hello Soham\n",
      "hello Sachin\n"
     ]
    }
   ],
   "source": [
    "#write a program to greet all the person names stored in the list l1 and which starts with s\n",
    "\n",
    "l1 = [\"Harry\", \"Soham\",\"Sachin\",\"Rahul\"]\n",
    "\n",
    "for name in l1:\n",
    "    if name.startswith(\"S\"):\n",
    "        print(\"hello \" + name)"
   ]
  },
  {
   "cell_type": "code",
   "execution_count": 7,
   "metadata": {},
   "outputs": [
    {
     "name": "stdout",
     "output_type": "stream",
     "text": [
      "hello Soham\n",
      "hello Sachin\n"
     ]
    }
   ],
   "source": [
    "\n",
    "l1 = [\"Harry\", \"Soham\",\"Sachin\",\"Rahul\"]\n",
    "\n",
    "for name in l1:\n",
    "    if name[0] == \"S\":\n",
    "        print(\"hello \" + name)"
   ]
  },
  {
   "cell_type": "code",
   "execution_count": 17,
   "metadata": {},
   "outputs": [
    {
     "name": "stdout",
     "output_type": "stream",
     "text": [
      "Enter a numer: 3\n",
      "1 X 3 = 3\n",
      "2 X 3 = 6\n",
      "3 X 3 = 9\n",
      "4 X 3 = 12\n",
      "5 X 3 = 15\n",
      "6 X 3 = 18\n",
      "7 X 3 = 21\n",
      "8 X 3 = 24\n",
      "9 X 3 = 27\n",
      "10 X 3 = 30\n"
     ]
    }
   ],
   "source": [
    "#Attempt problem 1 with while loop\n",
    "\n",
    "num = int(input(\"Enter a numer: \"))\n",
    "i = 1\n",
    "while i<11:\n",
    "    print(str(i) + \" X \" + str(num) + \" = \" + str(i*num))\n",
    "    i = i+1\n",
    "    \n",
    "    "
   ]
  },
  {
   "cell_type": "code",
   "execution_count": 24,
   "metadata": {},
   "outputs": [
    {
     "name": "stdout",
     "output_type": "stream",
     "text": [
      "Enter a number: 4\n",
      "the number is  not prime\n"
     ]
    }
   ],
   "source": [
    "#write a python program to find whether a given number is prime or not\n",
    "\n",
    "num = int(input(\"Enter a number: \"))\n",
    "\n",
    "prime = True\n",
    "\n",
    "for i in range(2,num):\n",
    "    if (num%i == 0):\n",
    "        prime = False\n",
    "        break\n",
    "if prime == True:\n",
    "    print(\"The number is prime number\")\n",
    "else:\n",
    "    print(\"the number is  not prime\")"
   ]
  },
  {
   "cell_type": "code",
   "execution_count": 22,
   "metadata": {},
   "outputs": [
    {
     "name": "stdout",
     "output_type": "stream",
     "text": [
      "Enter the number: 2\n",
      "This number is Prime\n"
     ]
    }
   ],
   "source": [
    "num = int(input(\"Enter the number: \"))\n",
    "prime = True\n",
    "\n",
    "for i in range(2, num):\n",
    "    if(num%i == 0):\n",
    "        prime = False\n",
    "        break\n",
    "if prime:\n",
    "    print(\"This number is Prime\")\n",
    "else:\n",
    "    print(\"This number is not Prime\")"
   ]
  },
  {
   "cell_type": "code",
   "execution_count": 26,
   "metadata": {},
   "outputs": [
    {
     "name": "stdout",
     "output_type": "stream",
     "text": [
      "Enter a number: 8\n",
      "9\n",
      "10\n",
      "11\n",
      "12\n",
      "13\n",
      "14\n",
      "15\n"
     ]
    }
   ],
   "source": [
    "# write a program to find the sum of first n natural numbers using a while loop\n",
    "\n",
    "n =int(input(\"Enter a number: \"))\n",
    "\n",
    "i = 1\n",
    "while i<n:\n",
    "    print(i+n)\n",
    "    i = i+1\n"
   ]
  },
  {
   "cell_type": "code",
   "execution_count": 28,
   "metadata": {},
   "outputs": [
    {
     "name": "stdout",
     "output_type": "stream",
     "text": [
      "Enter a number: 4\n",
      "The factorial of 4 is 24\n"
     ]
    }
   ],
   "source": [
    "# write a program to calculate the factorial of a given number using for loop\n",
    "\n",
    "#n! = 1*2*3*4*....*n\n",
    "\n",
    "num = int(input(\"Enter a number: \"))\n",
    "factorial = 1\n",
    "for i in range(1,num+1):\n",
    "    factorial = i*factorial\n",
    "print(f\"The factorial of {num} is {factorial}\")\n",
    "    \n",
    "    "
   ]
  },
  {
   "cell_type": "code",
   "execution_count": 33,
   "metadata": {},
   "outputs": [
    {
     "name": "stdout",
     "output_type": "stream",
     "text": [
      "enter a number: 2\n",
      "the sum of the 2 is 3\n"
     ]
    }
   ],
   "source": [
    "num = int(input(\"enter a number: \"))\n",
    "sum = 0\n",
    "\n",
    "for i in range(1,num+1):\n",
    "    sum = sum+i\n",
    "print(f\"the sum of the {num} is {sum}\")\n",
    "    "
   ]
  },
  {
   "cell_type": "code",
   "execution_count": 34,
   "metadata": {},
   "outputs": [
    {
     "name": "stdout",
     "output_type": "stream",
     "text": [
      "*\n",
      "**\n",
      "***\n",
      "****\n"
     ]
    }
   ],
   "source": [
    "#write a program to print the following star pattern\n",
    "\n",
    "n=4\n",
    "\n",
    "for i in range(n):\n",
    "    print(\"*\" * (i+1))"
   ]
  },
  {
   "cell_type": "code",
   "execution_count": 40,
   "metadata": {},
   "outputs": [
    {
     "name": "stdout",
     "output_type": "stream",
     "text": [
      "  *  \n",
      " *** \n",
      "*****\n"
     ]
    }
   ],
   "source": [
    "n = 3\n",
    "for i in range(3):\n",
    "    print(\" \" * (n-i-1), end = \"\")\n",
    "    print(\"*\" * (2*i+1), end = \"\")\n",
    "    print(\" \" * (n-i-1))\n",
    "    "
   ]
  },
  {
   "cell_type": "code",
   "execution_count": null,
   "metadata": {},
   "outputs": [],
   "source": [
    "#write a program to print a multiplication table of n using for loop in reversed order\n",
    "\n",
    "#10*1\n",
    "#9*2\n",
    "#8*3\n",
    "\n",
    "\n",
    "    "
   ]
  },
  {
   "cell_type": "code",
   "execution_count": null,
   "metadata": {},
   "outputs": [],
   "source": []
  },
  {
   "cell_type": "code",
   "execution_count": null,
   "metadata": {},
   "outputs": [],
   "source": []
  }
 ],
 "metadata": {
  "kernelspec": {
   "display_name": "Python 3",
   "language": "python",
   "name": "python3"
  },
  "language_info": {
   "codemirror_mode": {
    "name": "ipython",
    "version": 3
   },
   "file_extension": ".py",
   "mimetype": "text/x-python",
   "name": "python",
   "nbconvert_exporter": "python",
   "pygments_lexer": "ipython3",
   "version": "3.7.6"
  }
 },
 "nbformat": 4,
 "nbformat_minor": 4
}
