{
 "cells": [
  {
   "cell_type": "code",
   "execution_count": 2,
   "metadata": {},
   "outputs": [
    {
     "name": "stdout",
     "output_type": "stream",
     "text": [
      "twinkle twinkle little star how I wonder what you are!\n"
     ]
    }
   ],
   "source": [
    "f = open(\"poems.txt\")\n",
    "data = f.read()\n",
    "print(data)\n",
    "f.close()"
   ]
  },
  {
   "cell_type": "code",
   "execution_count": 5,
   "metadata": {},
   "outputs": [
    {
     "name": "stdout",
     "output_type": "stream",
     "text": [
      "me\n"
     ]
    }
   ],
   "source": [
    "t = open(\"another.txt\")\n",
    "new_t = t.read()\n",
    "print(new_t)\n",
    "t.close()\n"
   ]
  },
  {
   "cell_type": "code",
   "execution_count": 7,
   "metadata": {},
   "outputs": [
    {
     "name": "stdout",
     "output_type": "stream",
     "text": [
      "I am this file\n",
      "\n",
      "this is good\n",
      "\n",
      "\n"
     ]
    }
   ],
   "source": [
    "f = open('copy.txt')\n",
    "# read first line\n",
    "data = f.readline() \n",
    "print(data)\n",
    "\n",
    "# Read second line\n",
    "data = f.readline() \n",
    "print(data)\n",
    "\n",
    "# Read third line\n",
    "data = f.readline() \n",
    "print(data)\n",
    "\n",
    "# Read fourth line... and so on...\n",
    "data = f.readline() \n",
    "print(data)\n",
    "f.close()"
   ]
  },
  {
   "cell_type": "code",
   "execution_count": 2,
   "metadata": {},
   "outputs": [
    {
     "name": "stdout",
     "output_type": "stream",
     "text": [
      "Yes\n"
     ]
    }
   ],
   "source": [
    "#write a program to read the text from a given file and find out if a given word is present or not.\n",
    "\n",
    "f = open('poems.txt')\n",
    "t = f.read()\n",
    "if 'twinkle' in t:\n",
    "    print(\"Yes\")\n",
    "else:\n",
    "    print('No')\n",
    "f.close()"
   ]
  },
  {
   "cell_type": "code",
   "execution_count": 9,
   "metadata": {},
   "outputs": [],
   "source": [
    "def game():\n",
    "    return 1234\n",
    "\n",
    "score = game()\n",
    "with open (\"highscore.txt\") as f:\n",
    "    highscoreStr = f.read()\n",
    "    \n",
    "if highscoreStr=='':\n",
    "    with open (\"highscore.txt\", \"w\") as f:\n",
    "        f.write(str(score))\n",
    "\n",
    "elif int(highscoreStr)<score:\n",
    "    with open(\"highscore.txt\", \"w\") as f:\n",
    "        f.write(str(score))"
   ]
  },
  {
   "cell_type": "code",
   "execution_count": 7,
   "metadata": {},
   "outputs": [],
   "source": [
    "def game():\n",
    "    return 44677\n",
    "\n",
    "score = game()\n",
    "with open(\"hiscore.txt\") as f:\n",
    "    hiScoreStr = f.read()\n",
    "    \n",
    "if hiScoreStr=='':\n",
    "    with open(\"hiscore.txt\", \"w\") as f:\n",
    "        f.write(str(score))\n",
    "\n",
    "elif int(hiScoreStr)<score :\n",
    "    with open(\"hiscore.txt\", \"w\") as f:\n",
    "        f.write(str(score))"
   ]
  },
  {
   "cell_type": "code",
   "execution_count": 12,
   "metadata": {},
   "outputs": [
    {
     "name": "stdout",
     "output_type": "stream",
     "text": [
      "2\n",
      "4\n",
      "6\n",
      "8\n",
      "10\n",
      "12\n",
      "14\n",
      "16\n",
      "18\n",
      "20\n",
      "3\n",
      "6\n",
      "9\n",
      "12\n",
      "15\n",
      "18\n",
      "21\n",
      "24\n",
      "27\n",
      "30\n",
      "4\n",
      "8\n",
      "12\n",
      "16\n",
      "20\n",
      "24\n",
      "28\n",
      "32\n",
      "36\n",
      "40\n",
      "5\n",
      "10\n",
      "15\n",
      "20\n",
      "25\n",
      "30\n",
      "35\n",
      "40\n",
      "45\n",
      "50\n",
      "6\n",
      "12\n",
      "18\n",
      "24\n",
      "30\n",
      "36\n",
      "42\n",
      "48\n",
      "54\n",
      "60\n",
      "7\n",
      "14\n",
      "21\n",
      "28\n",
      "35\n",
      "42\n",
      "49\n",
      "56\n",
      "63\n",
      "70\n",
      "8\n",
      "16\n",
      "24\n",
      "32\n",
      "40\n",
      "48\n",
      "56\n",
      "64\n",
      "72\n",
      "80\n",
      "9\n",
      "18\n",
      "27\n",
      "36\n",
      "45\n",
      "54\n",
      "63\n",
      "72\n",
      "81\n",
      "90\n",
      "10\n",
      "20\n",
      "30\n",
      "40\n",
      "50\n",
      "60\n",
      "70\n",
      "80\n",
      "90\n",
      "100\n",
      "11\n",
      "22\n",
      "33\n",
      "44\n",
      "55\n",
      "66\n",
      "77\n",
      "88\n",
      "99\n",
      "110\n",
      "12\n",
      "24\n",
      "36\n",
      "48\n",
      "60\n",
      "72\n",
      "84\n",
      "96\n",
      "108\n",
      "120\n",
      "13\n",
      "26\n",
      "39\n",
      "52\n",
      "65\n",
      "78\n",
      "91\n",
      "104\n",
      "117\n",
      "130\n",
      "14\n",
      "28\n",
      "42\n",
      "56\n",
      "70\n",
      "84\n",
      "98\n",
      "112\n",
      "126\n",
      "140\n",
      "15\n",
      "30\n",
      "45\n",
      "60\n",
      "75\n",
      "90\n",
      "105\n",
      "120\n",
      "135\n",
      "150\n",
      "16\n",
      "32\n",
      "48\n",
      "64\n",
      "80\n",
      "96\n",
      "112\n",
      "128\n",
      "144\n",
      "160\n",
      "17\n",
      "34\n",
      "51\n",
      "68\n",
      "85\n",
      "102\n",
      "119\n",
      "136\n",
      "153\n",
      "170\n",
      "18\n",
      "36\n",
      "54\n",
      "72\n",
      "90\n",
      "108\n",
      "126\n",
      "144\n",
      "162\n",
      "180\n",
      "19\n",
      "38\n",
      "57\n",
      "76\n",
      "95\n",
      "114\n",
      "133\n",
      "152\n",
      "171\n",
      "190\n",
      "20\n",
      "40\n",
      "60\n",
      "80\n",
      "100\n",
      "120\n",
      "140\n",
      "160\n",
      "180\n",
      "200\n"
     ]
    }
   ],
   "source": [
    "#write a program to generate a multiplication table from 2 to 20 and write it to the different fields. \n",
    "#Place these files to a 13 year old girl\n",
    "\n",
    "\n",
    "for i in range(2, 21):\n",
    "    with open (f\"tables/Multiplication_table_of_{i}.txt\",'w') as f:\n",
    "        \n",
    "        for j in range(1,11):\n",
    "            f.write(f\"{i} X {j} = {i*j}\")\n",
    "            if j! =10:\n",
    "                f.write('\\n')\n",
    "                \n"
   ]
  },
  {
   "cell_type": "code",
   "execution_count": 1,
   "metadata": {},
   "outputs": [],
   "source": [
    "#A file contains a word donkey multiple times. you need to replace the word with ####by updating the file.\n",
    "\n",
    "with open(\"sample.txt\") as f:\n",
    "    content = f.read()\n",
    "    \n",
    "content  = content.replace(\"donkey\" , \"$%^@$^#\")\n",
    "with open(\"sample.txt\", \"w\") as f:\n",
    "    f.write(content)"
   ]
  },
  {
   "cell_type": "code",
   "execution_count": 2,
   "metadata": {},
   "outputs": [
    {
     "name": "stdout",
     "output_type": "stream",
     "text": [
      "yes python is present\n"
     ]
    }
   ],
   "source": [
    "#write a python program to mine a log file and find out whether it contains \"python\"\n",
    "\n",
    "with open(\"log.txt\") as f:\n",
    "    content = f.read()\n",
    "    \n",
    "    \n",
    "if 'python' in content.lower():\n",
    "    print(\"yes python is present\")\n",
    "    \n",
    "else:\n",
    "    print(\"python not present\")\n",
    "    "
   ]
  },
  {
   "cell_type": "code",
   "execution_count": null,
   "metadata": {},
   "outputs": [],
   "source": [
    "# write a program to find out the line number where python is present in which line\n",
    "\n"
   ]
  },
  {
   "cell_type": "code",
   "execution_count": 3,
   "metadata": {},
   "outputs": [],
   "source": [
    "#write a program to make a copy of a text file \"this txt\"\n",
    "\n",
    "with open(\"this.txt\") as f:\n",
    "    content = f.read()\n",
    "\n",
    "with open(\"copy.txt\", 'w') as f:\n",
    "    f.write(content)"
   ]
  },
  {
   "cell_type": "code",
   "execution_count": 10,
   "metadata": {},
   "outputs": [
    {
     "name": "stdout",
     "output_type": "stream",
     "text": [
      "files are unidentical\n"
     ]
    }
   ],
   "source": [
    "# write a program to find out whether a a file is identical and matches the content of another file\n",
    "\n",
    "file1 = \"file1.txt\"\n",
    "file2 = \"file2.txt\"\n",
    "\n",
    "with open(file1) as f1:\n",
    "    content1 = f1.read()\n",
    "    \n",
    "\n",
    "with open(file2) as f2:\n",
    "    content2 = f2.read()\n",
    "    \n",
    "if f1 == f2:\n",
    "    print(\"files are identical\")\n",
    "else:\n",
    "    print(\"files are unidentical\")\n",
    "    \n",
    "    "
   ]
  },
  {
   "cell_type": "code",
   "execution_count": 13,
   "metadata": {},
   "outputs": [
    {
     "name": "stdout",
     "output_type": "stream",
     "text": [
      "Files are not identical\n"
     ]
    }
   ],
   "source": [
    "file1 = \"file1.txt\"\n",
    "file2 = \"file2.txt\"\n",
    "\n",
    "with open(file1) as f:\n",
    "    f1 = f.read()\n",
    "\n",
    "with open(file2) as f:\n",
    "    f2= f.read()\n",
    "\n",
    "if f1 == f2:\n",
    "    print(\"Files are identical\")\n",
    "else:\n",
    "    print(\"Files are not identical\")"
   ]
  },
  {
   "cell_type": "code",
   "execution_count": 14,
   "metadata": {},
   "outputs": [],
   "source": [
    "# write a program to wipe out the content of the file\n",
    "filename= \"sample.txt\"\n",
    "\n",
    "with open(filename, \"w\") as f:\n",
    "    f.write(\" \")\n",
    "    \n",
    "\n"
   ]
  },
  {
   "cell_type": "code",
   "execution_count": 16,
   "metadata": {},
   "outputs": [],
   "source": [
    "# write a python program to rename a file \n",
    "\n",
    "import os\n",
    "\n",
    "oldname = \"sample.txt\"\n",
    "newname = \"renamed_by_python.txt\"\n",
    "with open(oldname) as f:\n",
    "    content = f.read()\n",
    "\n",
    "with open(newname, \"w\") as f:\n",
    "    f.write(content)\n",
    "\n",
    "os.remove(oldname)"
   ]
  },
  {
   "cell_type": "code",
   "execution_count": null,
   "metadata": {},
   "outputs": [],
   "source": []
  },
  {
   "cell_type": "code",
   "execution_count": null,
   "metadata": {},
   "outputs": [],
   "source": []
  },
  {
   "cell_type": "code",
   "execution_count": null,
   "metadata": {},
   "outputs": [],
   "source": []
  },
  {
   "cell_type": "code",
   "execution_count": null,
   "metadata": {},
   "outputs": [],
   "source": []
  },
  {
   "cell_type": "code",
   "execution_count": null,
   "metadata": {},
   "outputs": [],
   "source": []
  },
  {
   "cell_type": "code",
   "execution_count": null,
   "metadata": {},
   "outputs": [],
   "source": []
  }
 ],
 "metadata": {
  "kernelspec": {
   "display_name": "Python 3",
   "language": "python",
   "name": "python3"
  },
  "language_info": {
   "codemirror_mode": {
    "name": "ipython",
    "version": 3
   },
   "file_extension": ".py",
   "mimetype": "text/x-python",
   "name": "python",
   "nbconvert_exporter": "python",
   "pygments_lexer": "ipython3",
   "version": "3.7.6"
  }
 },
 "nbformat": 4,
 "nbformat_minor": 4
}
