{
 "cells": [
  {
   "cell_type": "markdown",
   "metadata": {},
   "source": [
    "# Conditional Expressions\n"
   ]
  },
  {
   "cell_type": "code",
   "execution_count": 8,
   "metadata": {},
   "outputs": [
    {
     "name": "stdout",
     "output_type": "stream",
     "text": [
      "Enter a number: 10\n",
      "A is less than 100 or 42\n"
     ]
    }
   ],
   "source": [
    "a = int(input(\"Enter a number: \"))\n",
    "\n",
    "if (a>100):\n",
    "    print(\"A is greater than 100\")\n",
    "elif(a>42):\n",
    "    print(\"A is greater than 42\")\n",
    "else:\n",
    "    print(\"A is less than 100 or 42\")"
   ]
  },
  {
   "cell_type": "markdown",
   "metadata": {},
   "source": [
    "Only one statement will get executed"
   ]
  },
  {
   "cell_type": "code",
   "execution_count": 10,
   "metadata": {},
   "outputs": [
    {
     "name": "stdout",
     "output_type": "stream",
     "text": [
      "The value of a is greater than 13\n",
      "The value of a is greater than 7\n",
      "The value is not greater than 3 or 7\n",
      "Done\n"
     ]
    }
   ],
   "source": [
    "# 2. Multiple if statements\n",
    "a = 17\n",
    "\n",
    "if(a<3): \n",
    "    print(\"The value of a is greater than 3\")\n",
    "\n",
    "if(a>13):\n",
    "    print(\"The value of a is greater than 13\")\n",
    "    \n",
    "if(a>7):\n",
    "    print(\"The value of a is greater than 7\")\n",
    "\n",
    "if(a>17):\n",
    "    print(\"The value of a is greater than 17\")\n",
    "else:\n",
    "    print(\"The value is not greater than 3 or 7\")\n",
    "\n",
    "print(\"Done\")"
   ]
  },
  {
   "cell_type": "code",
   "execution_count": 11,
   "metadata": {},
   "outputs": [
    {
     "name": "stdout",
     "output_type": "stream",
     "text": [
      "a is greater than 9\n"
     ]
    }
   ],
   "source": [
    "a=22\n",
    "if a>9:\n",
    "    print(\"a is greater than 9\")\n",
    "else:\n",
    "    print(\"a is lesser than 9\")"
   ]
  },
  {
   "cell_type": "code",
   "execution_count": 15,
   "metadata": {},
   "outputs": [
    {
     "name": "stdout",
     "output_type": "stream",
     "text": [
      "Enter your age: 85\n",
      "You are old!!!\n"
     ]
    }
   ],
   "source": [
    "# write a program to print yes when the age entered by the user is greater than or equal to 18\n",
    "\n",
    "age = int(input(\"Enter your age: \"))\n",
    "\n",
    "if age >18:\n",
    "    print(\"You are old!!!\")\n",
    "else:\n",
    "    print(\"Sweet Sixteen :)\")"
   ]
  },
  {
   "cell_type": "markdown",
   "metadata": {},
   "source": [
    "Relational operators: Are used to calculate conditions inside the if statements"
   ]
  },
  {
   "cell_type": "code",
   "execution_count": 18,
   "metadata": {},
   "outputs": [
    {
     "name": "stdout",
     "output_type": "stream",
     "text": [
      "Enter your age: 23\n",
      "You cannot work with us\n"
     ]
    }
   ],
   "source": [
    "#Logical operators\n",
    "\n",
    "age = int(input(\"Enter your age: \"))\n",
    "if(age>34 and age<56):\n",
    "    print(\"You can work with us\")\n",
    "\n",
    "else:\n",
    "    print(\"You cannot work with us\")"
   ]
  },
  {
   "cell_type": "code",
   "execution_count": 19,
   "metadata": {},
   "outputs": [
    {
     "name": "stdout",
     "output_type": "stream",
     "text": [
      "Yes\n",
      "False\n"
     ]
    }
   ],
   "source": [
    "a = None\n",
    "if (a is None):\n",
    "    print(\"Yes\")\n",
    "else:\n",
    "    print(\"No\")\n",
    "\n",
    "a = [45, 56, 6]\n",
    "print(435 in a)"
   ]
  },
  {
   "cell_type": "code",
   "execution_count": 20,
   "metadata": {},
   "outputs": [],
   "source": [
    "#else is optional"
   ]
  },
  {
   "cell_type": "code",
   "execution_count": 3,
   "metadata": {},
   "outputs": [
    {
     "name": "stdout",
     "output_type": "stream",
     "text": [
      "Enter a number1: 23\n",
      "Enter a number2: 33\n",
      "Enter a number3: 12\n",
      "Enter a number4: 6\n",
      "33 is greatest\n"
     ]
    }
   ],
   "source": [
    "#1 write a program to find the greatest of four numbers entered by user\n",
    "\n",
    "num1 = int(input(\"Enter a number1: \"))\n",
    "num2 = int(input(\"Enter a number2: \"))\n",
    "num3 = int(input(\"Enter a number3: \"))\n",
    "num4 = int(input(\"Enter a number4: \"))\n",
    "\n",
    "if num1>num4:\n",
    "    f1 = num1\n",
    "else:\n",
    "    f1 = num4\n",
    "if num2>num3:\n",
    "    f2 = num2\n",
    "else:\n",
    "    f2 = num3\n",
    "if f1>f2:\n",
    "    print(str(f1) + \" is greatest\")\n",
    "else:\n",
    "    print(str(f2) + \" is greatest\")"
   ]
  },
  {
   "cell_type": "code",
   "execution_count": 7,
   "metadata": {},
   "outputs": [
    {
     "name": "stdout",
     "output_type": "stream",
     "text": [
      "Enter the marks of first subject: 34\n",
      "Enter the marks of sec subject: 34\n",
      "Enter the marks of third subject: 34\n",
      "Enter the marks of third subject: 34\n",
      "You have passed\n"
     ]
    }
   ],
   "source": [
    "## write a program to find out whether a student is pass or fail if it requires total 40% and at least 33% in each student to pass.\n",
    "# Assume 3 subjects and take marks as an input from the user\n",
    "\n",
    "subj1 = int(input(\"Enter the marks of first subject: \"))\n",
    "subj2 = int(input(\"Enter the marks of sec subject: \"))\n",
    "subj3 = int(input(\"Enter the marks of third subject: \"))\n",
    "subj4 = int(input(\"Enter the marks of third subject: \"))\n",
    "\n",
    "if (subj1<33 or subj2<33 or subj3<33 or subj4<33):\n",
    "    print(\"You have failed\")\n",
    "elif (subj1+subj2+subj3+subj4)<40:\n",
    "    print(\"You have failed\")\n",
    "else:\n",
    "    print(\"You have passed\")"
   ]
  },
  {
   "cell_type": "code",
   "execution_count": 9,
   "metadata": {},
   "outputs": [
    {
     "name": "stdout",
     "output_type": "stream",
     "text": [
      "Enter the text\n",
      "make a lot of money\n",
      "This text is spam\n"
     ]
    }
   ],
   "source": [
    "#spamclassifier\n",
    "text = input(\"Enter the text\\n\")\n",
    "\n",
    "if(\"make a lot of money\" in text):\n",
    "    spam = True\n",
    "elif(\"buy now\" in text):\n",
    "    spam = True\n",
    "elif(\"click this\" in text):\n",
    "    spam = True\n",
    "elif(\"subscribe this\" in text):\n",
    "    spam = True\n",
    "else:\n",
    "    spam = False\n",
    "\n",
    "if(spam):\n",
    "    print(\"This text is spam\")\n",
    "else:\n",
    "    print(\"This text is not spam\")"
   ]
  },
  {
   "cell_type": "code",
   "execution_count": 11,
   "metadata": {},
   "outputs": [
    {
     "name": "stdout",
     "output_type": "stream",
     "text": [
      "Enter your name: shaoni mukherjee\n",
      "character matches the length\n"
     ]
    }
   ],
   "source": [
    "#write a program to find whether a given username contains less than 10 characters or not\n",
    "\n",
    "username = input(\"Enter your name: \")\n",
    "\n",
    "if len(username)<10:\n",
    "    print(\"username contains less than 10 characters\")\n",
    "\n",
    "else:\n",
    "    print(\"character matches the length\")"
   ]
  },
  {
   "cell_type": "code",
   "execution_count": 16,
   "metadata": {},
   "outputs": [
    {
     "name": "stdout",
     "output_type": "stream",
     "text": [
      "Enter a name: mou\n",
      "Your name is not present\n"
     ]
    }
   ],
   "source": [
    "#write a program which finds out whether a given name is present in alist or not\n",
    "\n",
    "names = [\"harry\",\"Mimi\",\"Aditi\",\"Shaoni\"]\n",
    "\n",
    "name = input(\"Enter a name: \")\n",
    "\n",
    "if name in names:\n",
    "    print(\"Your name is present\")\n",
    "else:\n",
    "    print(\"Your name is not present\")"
   ]
  },
  {
   "cell_type": "code",
   "execution_count": 19,
   "metadata": {},
   "outputs": [
    {
     "name": "stdout",
     "output_type": "stream",
     "text": [
      "Enter your marks: 59\n",
      "Your grade is F\n"
     ]
    }
   ],
   "source": [
    "\n",
    "marks = int(input(\"Enter your marks: \"))\n",
    "\n",
    "if marks>=90:\n",
    "    grade = \"Ex\"\n",
    "elif marks>=80:\n",
    "    grade = \"A\"\n",
    "elif marks>=70:\n",
    "    grade = \"B\"\n",
    "elif marks>=60:\n",
    "    grade = \"C\"\n",
    "elif marks>=50:\n",
    "    grade = \"F\"\n",
    "print(\"Your grade is \" +grade)"
   ]
  },
  {
   "cell_type": "code",
   "execution_count": 22,
   "metadata": {},
   "outputs": [
    {
     "ename": "NameError",
     "evalue": "name 'islower' is not defined",
     "output_type": "error",
     "traceback": [
      "\u001b[1;31m---------------------------------------------------------------------------\u001b[0m",
      "\u001b[1;31mNameError\u001b[0m                                 Traceback (most recent call last)",
      "\u001b[1;32m<ipython-input-22-10aa5e9c7b22>\u001b[0m in \u001b[0;36m<module>\u001b[1;34m\u001b[0m\n\u001b[0;32m      1\u001b[0m \u001b[1;31m#write a given program to find out whether a given post is talking about aditi or not\u001b[0m\u001b[1;33m\u001b[0m\u001b[1;33m\u001b[0m\u001b[1;33m\u001b[0m\u001b[0m\n\u001b[0;32m      2\u001b[0m \u001b[1;33m\u001b[0m\u001b[0m\n\u001b[1;32m----> 3\u001b[1;33m \u001b[0mpost\u001b[0m \u001b[1;33m=\u001b[0m \u001b[0mislower\u001b[0m\u001b[1;33m(\u001b[0m\u001b[0minput\u001b[0m\u001b[1;33m(\u001b[0m\u001b[1;34m\"Enter the post: \"\u001b[0m\u001b[1;33m)\u001b[0m\u001b[1;33m)\u001b[0m\u001b[1;33m\u001b[0m\u001b[1;33m\u001b[0m\u001b[0m\n\u001b[0m\u001b[0;32m      4\u001b[0m \u001b[1;33m\u001b[0m\u001b[0m\n\u001b[0;32m      5\u001b[0m \u001b[1;32mif\u001b[0m \u001b[1;33m(\u001b[0m\u001b[1;34m\"harry\"\u001b[0m \u001b[1;32min\u001b[0m \u001b[0mpost\u001b[0m\u001b[1;33m)\u001b[0m\u001b[1;33m:\u001b[0m\u001b[1;33m\u001b[0m\u001b[1;33m\u001b[0m\u001b[0m\n",
      "\u001b[1;31mNameError\u001b[0m: name 'islower' is not defined"
     ]
    }
   ],
   "source": [
    "#write a given program to find out whether a given post is talking about aditi or not\n",
    "\n",
    "post = input(\"Enter the post: \")\n",
    "\n",
    "if (\"harry\" in post):\n",
    "    print(\"harry is in the post\")\n",
    "else:\n",
    "    print(\"harry is not present\")"
   ]
  },
  {
   "cell_type": "code",
   "execution_count": null,
   "metadata": {},
   "outputs": [],
   "source": []
  },
  {
   "cell_type": "code",
   "execution_count": null,
   "metadata": {},
   "outputs": [],
   "source": []
  }
 ],
 "metadata": {
  "kernelspec": {
   "display_name": "Python 3",
   "language": "python",
   "name": "python3"
  },
  "language_info": {
   "codemirror_mode": {
    "name": "ipython",
    "version": 3
   },
   "file_extension": ".py",
   "mimetype": "text/x-python",
   "name": "python",
   "nbconvert_exporter": "python",
   "pygments_lexer": "ipython3",
   "version": "3.7.6"
  }
 },
 "nbformat": 4,
 "nbformat_minor": 4
}
